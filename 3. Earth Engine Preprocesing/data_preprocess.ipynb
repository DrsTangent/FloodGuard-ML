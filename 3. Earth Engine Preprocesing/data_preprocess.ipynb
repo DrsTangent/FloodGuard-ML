{
 "cells": [
  {
   "cell_type": "code",
   "execution_count": 54,
   "id": "46edeaf7-6fd6-473c-991c-5d55c15145a9",
   "metadata": {},
   "outputs": [],
   "source": [
    "import pandas\n",
    "\n",
    "df = pandas.read_csv('DistrictsLocationInfo.csv')"
   ]
  },
  {
   "cell_type": "code",
   "execution_count": 55,
   "id": "4d2d6b9f-b042-46c1-a9c3-823a479f90fc",
   "metadata": {},
   "outputs": [],
   "source": [
    "df.columns = ['system:index', 'City Name', 'Province', 'City Code', 'Lat', 'Lng', '.geo']"
   ]
  },
  {
   "cell_type": "code",
   "execution_count": 70,
   "id": "9ed88205-b74a-4e6b-bbfc-e13fa20b9cba",
   "metadata": {},
   "outputs": [],
   "source": [
    "import ast\n",
    "\n",
    "for i in range(len(df)-1):\n",
    "    data = {}\n",
    "    data['type'] = 'Polygon'\n",
    "    data['coordinates'] = ast.literal_eval(df.loc[i, '.geo'])\n",
    "    df.at[i, '.geo'] = data"
   ]
  },
  {
   "cell_type": "code",
   "execution_count": 79,
   "id": "975383cf-4aa8-4847-9b78-3295c5ae1ab0",
   "metadata": {},
   "outputs": [
    {
     "name": "stdout",
     "output_type": "stream",
     "text": [
      "34.0716161\n",
      "7.44729739764575\n",
      "15.805822514459608\n"
     ]
    }
   ],
   "source": [
    "import ee\n",
    "\n",
    "print('Authentication')\n"
   ]
  },
  {
   "cell_type": "code",
   "execution_count": 72,
   "id": "e908e0c2-a6a9-47da-be82-b58cb6b93cd5",
   "metadata": {},
   "outputs": [],
   "source": [
    "df.to_csv('refinedDistrictInfo.csv', index=False)"
   ]
  }
 ],
 "metadata": {
  "kernelspec": {
   "display_name": "Python 3 (ipykernel)",
   "language": "python",
   "name": "python3"
  },
  "language_info": {
   "codemirror_mode": {
    "name": "ipython",
    "version": 3
   },
   "file_extension": ".py",
   "mimetype": "text/x-python",
   "name": "python",
   "nbconvert_exporter": "python",
   "pygments_lexer": "ipython3",
   "version": "3.11.4"
  }
 },
 "nbformat": 4,
 "nbformat_minor": 5
}
