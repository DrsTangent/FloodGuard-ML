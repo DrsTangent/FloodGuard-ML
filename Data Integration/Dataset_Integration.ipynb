{
 "cells": [
  {
   "cell_type": "code",
   "execution_count": 2,
   "id": "2104b4aa-ee96-4880-9162-14aaed2893ee",
   "metadata": {},
   "outputs": [],
   "source": [
    "import pandas"
   ]
  },
  {
   "cell_type": "code",
   "execution_count": 3,
   "id": "e0cc948d-ede3-4ddd-af2a-41cb28b4f890",
   "metadata": {},
   "outputs": [
    {
     "name": "stdout",
     "output_type": "stream",
     "text": [
      "           City Name     Province     premWater          area\n",
      "0             Chaman  Balochistan  6.627625e+06  5.100645e+14\n",
      "1             Chagai  Balochistan  1.914133e+04  3.959682e+10\n",
      "2             Gwadar  Balochistan  7.535710e+04  2.591403e+10\n",
      "3             Awaran  Balochistan  2.106868e+04  2.577597e+10\n",
      "4            Lasbela  Balochistan  8.470135e+04  2.410751e+10\n",
      "..               ...          ...           ...           ...\n",
      "120         Musakhel  Balochistan  0.000000e+00  4.238674e+08\n",
      "121     East Karachi        Sindh  8.519608e+01  2.047757e+08\n",
      "122     West Karachi        Sindh  2.446235e+02  1.888636e+08\n",
      "123    South Karachi        Sindh  2.911412e+02  1.163020e+08\n",
      "124  Central Karachi        Sindh  2.027451e+00  6.348250e+07\n",
      "\n",
      "[125 rows x 4 columns]\n"
     ]
    }
   ],
   "source": [
    "permanentWaterReserves = pandas.read_excel('Districts_Water_Reserves.xlsx')\n",
    "print(permanentWaterReserves)"
   ]
  },
  {
   "cell_type": "code",
   "execution_count": 4,
   "id": "11922b90-1481-44d9-86b7-016eb28cb39c",
   "metadata": {},
   "outputs": [
    {
     "name": "stdout",
     "output_type": "stream",
     "text": [
      "           City Name            Province    elevation\n",
      "0              Badin               Sindh     9.343688\n",
      "1    Central Karachi               Sindh    40.695543\n",
      "2               Dadu               Sindh   162.741878\n",
      "3       East Karachi               Sindh    41.848237\n",
      "4             Ghotki               Sindh    71.151041\n",
      "..               ...                 ...          ...\n",
      "120             Swat  Khyber Pakhtunkhwa  2815.326998\n",
      "121             Tank  Khyber Pakhtunkhwa   479.660442\n",
      "122        Upper Dir  Khyber Pakhtunkhwa  2890.435347\n",
      "123   Upper Kohistan  Khyber Pakhtunkhwa  3361.186783\n",
      "124      Kolai-Palas  Khyber Pakhtunkhwa  3022.843076\n",
      "\n",
      "[125 rows x 3 columns]\n"
     ]
    }
   ],
   "source": [
    "elevations = pandas.read_excel('Elevations_Timeseries.xlsx')\n",
    "print(elevations)"
   ]
  },
  {
   "cell_type": "code",
   "execution_count": 5,
   "id": "4ac36c88-8ed5-4f25-a1ed-3a47500051d9",
   "metadata": {},
   "outputs": [
    {
     "name": "stdout",
     "output_type": "stream",
     "text": [
      "      month  year        City Name            Province flooded\n",
      "0         2  2003            Badin               Sindh     YES\n",
      "1         2  2003  Central Karachi               Sindh      NO\n",
      "2         2  2003             Dadu               Sindh     YES\n",
      "3         2  2003     East Karachi               Sindh      NO\n",
      "4         2  2003           Ghotki               Sindh     YES\n",
      "...     ...   ...              ...                 ...     ...\n",
      "3995      7  2018             Swat  Khyber Pakhtunkhwa     YES\n",
      "3996      7  2018             Tank  Khyber Pakhtunkhwa      NO\n",
      "3997      7  2018        Upper Dir  Khyber Pakhtunkhwa     YES\n",
      "3998      7  2018   Upper Kohistan  Khyber Pakhtunkhwa     YES\n",
      "3999      7  2018      Kolai-Palas  Khyber Pakhtunkhwa      NO\n",
      "\n",
      "[4000 rows x 5 columns]\n"
     ]
    }
   ],
   "source": [
    "floods = pandas.read_excel('Floods_Timeseries.xlsx')\n",
    "print(floods)"
   ]
  },
  {
   "cell_type": "code",
   "execution_count": 6,
   "id": "5d3ebad5-efba-4d35-b54e-157d82db0dc2",
   "metadata": {},
   "outputs": [
    {
     "name": "stdout",
     "output_type": "stream",
     "text": [
      "   month  year        City Name        Lat        Lng Province  \\\n",
      "0      1  2003            Badin  24.763178  68.827560    Sindh   \n",
      "1      1  2003  Central Karachi  24.947833  67.060062    Sindh   \n",
      "2      1  2003             Dadu  26.751405  67.527545    Sindh   \n",
      "3      1  2003     East Karachi  24.930772  67.160347    Sindh   \n",
      "4      1  2003           Ghotki  27.830511  69.696524    Sindh   \n",
      "\n",
      "   mean_2m_air_temperature  total_precipitation  \n",
      "0               291.863581             0.004684  \n",
      "1               293.231416             0.003625  \n",
      "2               289.981446             0.000776  \n",
      "3               293.227951             0.003629  \n",
      "4               289.535516             0.005402  \n"
     ]
    }
   ],
   "source": [
    "weather = pandas.read_excel('Refined_Weather_Timeseries.xlsx')\n",
    "print(weather.head())"
   ]
  },
  {
   "cell_type": "code",
   "execution_count": 10,
   "id": "974c033b-c2d7-401f-b739-d45f7031c3c0",
   "metadata": {},
   "outputs": [],
   "source": [
    "integratedDataset = weather.merge(floods, on=[\"month\", \"year\", \"City Name\", \"Province\"], how=\"right\").merge(elevations, on=[\"City Name\", \"Province\"], how=\"left\").merge(permanentWaterReserves, on=[\"City Name\", \"Province\"], how=\"left\")\n",
    "integratedDataset['flooded'].fillna('NO', inplace=True)"
   ]
  },
  {
   "cell_type": "code",
   "execution_count": 11,
   "id": "d54bd288-6b66-41bd-bbae-867c311ed7ea",
   "metadata": {},
   "outputs": [],
   "source": [
    "column_order = ['month', 'year', 'City Name', 'Province', 'Lat', 'Lng', 'mean_2m_air_temperature', 'total_precipitation', 'elevation', 'premWater','area',  'flooded']\n",
    "integratedDataset = integratedDataset[column_order]"
   ]
  },
  {
   "cell_type": "code",
   "execution_count": 12,
   "id": "9a2ed9b7-62a2-452d-9d4c-a0a56b94ea6d",
   "metadata": {},
   "outputs": [],
   "source": [
    "integratedDataset.to_csv('merged_data.csv', index=False)"
   ]
  },
  {
   "cell_type": "code",
   "execution_count": null,
   "id": "fc18afec-1e17-4e0d-bac4-1a7628631155",
   "metadata": {},
   "outputs": [],
   "source": []
  }
 ],
 "metadata": {
  "kernelspec": {
   "display_name": "Python 3 (ipykernel)",
   "language": "python",
   "name": "python3"
  },
  "language_info": {
   "codemirror_mode": {
    "name": "ipython",
    "version": 3
   },
   "file_extension": ".py",
   "mimetype": "text/x-python",
   "name": "python",
   "nbconvert_exporter": "python",
   "pygments_lexer": "ipython3",
   "version": "3.11.4"
  }
 },
 "nbformat": 4,
 "nbformat_minor": 5
}
